{
  "nbformat": 4,
  "nbformat_minor": 0,
  "metadata": {
    "colab": {
      "provenance": [],
      "mount_file_id": "149_9a5QGdW0CpuNmCsIVr4Piym3KOjWP",
      "authorship_tag": "ABX9TyOZxbwXfyuS3CCaJlv+3ugx"
    },
    "kernelspec": {
      "name": "python3",
      "display_name": "Python 3"
    },
    "language_info": {
      "name": "python"
    }
  },
  "cells": [
    {
      "cell_type": "markdown",
      "source": [
        "# Import Libraries"
      ],
      "metadata": {
        "id": "OwBevfmur6Cv"
      }
    },
    {
      "cell_type": "code",
      "source": [
        "import pandas as pd\n",
        "import os\n",
        "import numpy as np\n",
        "from sklearn.model_selection import train_test_split\n",
        "from sklearn.linear_model import LogisticRegression\n",
        "from sklearn.metrics import confusion_matrix, ConfusionMatrixDisplay\n",
        "from sklearn.ensemble import GradientBoostingClassifier\n",
        "from sklearn.neural_network import MLPClassifier\n",
        "from sklearn.utils.class_weight import compute_sample_weight\n",
        "from imblearn.over_sampling import SMOTE\n",
        "from sklearn.metrics import accuracy_score, precision_score, recall_score, roc_auc_score\n",
        "import matplotlib.pyplot as plt"
      ],
      "metadata": {
        "id": "XzUdj0Yzr460"
      },
      "execution_count": 1,
      "outputs": []
    },
    {
      "cell_type": "markdown",
      "source": [
        "# Import Datasets"
      ],
      "metadata": {
        "id": "InSqlJjQaQ_d"
      }
    },
    {
      "cell_type": "code",
      "execution_count": 3,
      "metadata": {
        "colab": {
          "base_uri": "https://localhost:8080/"
        },
        "collapsed": true,
        "id": "-1rcfx3zm9c4",
        "outputId": "55964d26-793a-4318-d0df-2ec35ec141f4"
      },
      "outputs": [
        {
          "output_type": "stream",
          "name": "stdout",
          "text": [
            "\n",
            "Transactions - Info:\n",
            "<class 'pandas.core.frame.DataFrame'>\n",
            "RangeIndex: 2661183 entries, 0 to 2661182\n",
            "Data columns (total 12 columns):\n",
            " #   Column          Dtype  \n",
            "---  ------          -----  \n",
            " 0   id              int64  \n",
            " 1   date            object \n",
            " 2   client_id       int64  \n",
            " 3   card_id         int64  \n",
            " 4   amount          object \n",
            " 5   use_chip        object \n",
            " 6   merchant_id     int64  \n",
            " 7   merchant_city   object \n",
            " 8   merchant_state  object \n",
            " 9   zip             float64\n",
            " 10  mcc             int64  \n",
            " 11  errors          object \n",
            "dtypes: float64(1), int64(5), object(6)\n",
            "memory usage: 243.6+ MB\n",
            "None\n",
            "\n",
            "Users - Info:\n",
            "<class 'pandas.core.frame.DataFrame'>\n",
            "RangeIndex: 2000 entries, 0 to 1999\n",
            "Data columns (total 14 columns):\n",
            " #   Column             Non-Null Count  Dtype  \n",
            "---  ------             --------------  -----  \n",
            " 0   id                 2000 non-null   int64  \n",
            " 1   current_age        2000 non-null   int64  \n",
            " 2   retirement_age     2000 non-null   int64  \n",
            " 3   birth_year         2000 non-null   int64  \n",
            " 4   birth_month        2000 non-null   int64  \n",
            " 5   gender             2000 non-null   object \n",
            " 6   address            2000 non-null   object \n",
            " 7   latitude           2000 non-null   float64\n",
            " 8   longitude          2000 non-null   float64\n",
            " 9   per_capita_income  2000 non-null   object \n",
            " 10  yearly_income      2000 non-null   object \n",
            " 11  total_debt         2000 non-null   object \n",
            " 12  credit_score       2000 non-null   int64  \n",
            " 13  num_credit_cards   2000 non-null   int64  \n",
            "dtypes: float64(2), int64(7), object(5)\n",
            "memory usage: 218.9+ KB\n",
            "None\n",
            "\n",
            "Cards - Info:\n",
            "<class 'pandas.core.frame.DataFrame'>\n",
            "RangeIndex: 6146 entries, 0 to 6145\n",
            "Data columns (total 13 columns):\n",
            " #   Column                 Non-Null Count  Dtype \n",
            "---  ------                 --------------  ----- \n",
            " 0   id                     6146 non-null   int64 \n",
            " 1   client_id              6146 non-null   int64 \n",
            " 2   card_brand             6146 non-null   object\n",
            " 3   card_type              6146 non-null   object\n",
            " 4   card_number            6146 non-null   int64 \n",
            " 5   expires                6146 non-null   object\n",
            " 6   cvv                    6146 non-null   int64 \n",
            " 7   has_chip               6146 non-null   object\n",
            " 8   num_cards_issued       6146 non-null   int64 \n",
            " 9   credit_limit           6146 non-null   object\n",
            " 10  acct_open_date         6146 non-null   object\n",
            " 11  year_pin_last_changed  6146 non-null   int64 \n",
            " 12  card_on_dark_web       6146 non-null   object\n",
            "dtypes: int64(6), object(7)\n",
            "memory usage: 624.3+ KB\n",
            "None\n",
            "\n",
            "Fraud Labels - Info:\n",
            "<class 'pandas.core.frame.DataFrame'>\n",
            "RangeIndex: 8914963 entries, 0 to 8914962\n",
            "Data columns (total 2 columns):\n",
            " #   Column  Dtype \n",
            "---  ------  ----- \n",
            " 0   index   int64 \n",
            " 1   target  object\n",
            "dtypes: int64(1), object(1)\n",
            "memory usage: 136.0+ MB\n",
            "None\n"
          ]
        }
      ],
      "source": [
        "os.chdir('/content/drive/MyDrive/Colab/Datasets/fraud_detection_sets')\n",
        "\n",
        "# Load datasets\n",
        "df_transactions = pd.read_csv('transactions_data.csv')\n",
        "df_users = pd.read_csv('users_data.csv')\n",
        "df_cards = pd.read_csv('cards_data.csv')\n",
        "df_fraud_labels = pd.read_json('train_fraud_labels.json').reset_index() # Use read_json to read json file, index the records\n",
        "\n",
        "# Function to display dataset details\n",
        "def display_df_info(df, name):\n",
        "    print(f\"\\n{name} - Info:\")\n",
        "    print(df.info())\n",
        "\n",
        "# Display info for each dataframe\n",
        "display_df_info(df_transactions, \"Transactions\")\n",
        "display_df_info(df_users, \"Users\")\n",
        "display_df_info(df_cards, \"Cards\")\n",
        "display_df_info(df_fraud_labels, \"Fraud Labels\")"
      ]
    },
    {
      "cell_type": "markdown",
      "source": [
        "# Data Preprocessing"
      ],
      "metadata": {
        "id": "HWkbTfoxsDrv"
      }
    },
    {
      "cell_type": "markdown",
      "source": [
        "## Check for NAN & Duplicates values"
      ],
      "metadata": {
        "id": "ps0JiO79bga0"
      }
    },
    {
      "cell_type": "code",
      "source": [
        "# Check for missing values in all datasets\n",
        "def check_missing_values(df):\n",
        "    return df.isnull().sum()\n",
        "\n",
        "# Print sum of missing values for each set\n",
        "print(f\"\\n{check_missing_values(df_transactions)}\")\n",
        "print(f\"\\n{check_missing_values(df_users)}\")\n",
        "print(f\"\\n{check_missing_values(df_cards)}\")\n",
        "print(f\"\\n{check_missing_values(df_fraud_labels)}\")\n",
        "\n",
        "# Drop duplicates for all datasets if any\n",
        "df_transactions.drop_duplicates(inplace=True)\n",
        "df_users.drop_duplicates(inplace=True)\n",
        "df_cards.drop_duplicates(inplace=True)\n",
        "df_fraud_labels.drop_duplicates(inplace=True)"
      ],
      "metadata": {
        "colab": {
          "base_uri": "https://localhost:8080/"
        },
        "collapsed": true,
        "id": "i4tyzjFqsJLr",
        "outputId": "839fd90b-2ccd-48aa-a985-6f2d748dcef8"
      },
      "execution_count": 4,
      "outputs": [
        {
          "output_type": "stream",
          "name": "stdout",
          "text": [
            "\n",
            "id                      0\n",
            "date                    0\n",
            "client_id               0\n",
            "card_id                 0\n",
            "amount                  0\n",
            "use_chip                0\n",
            "merchant_id             0\n",
            "merchant_city           0\n",
            "merchant_state     312815\n",
            "zip                330584\n",
            "mcc                     0\n",
            "errors            2618999\n",
            "dtype: int64\n",
            "\n",
            "id                   0\n",
            "current_age          0\n",
            "retirement_age       0\n",
            "birth_year           0\n",
            "birth_month          0\n",
            "gender               0\n",
            "address              0\n",
            "latitude             0\n",
            "longitude            0\n",
            "per_capita_income    0\n",
            "yearly_income        0\n",
            "total_debt           0\n",
            "credit_score         0\n",
            "num_credit_cards     0\n",
            "dtype: int64\n",
            "\n",
            "id                       0\n",
            "client_id                0\n",
            "card_brand               0\n",
            "card_type                0\n",
            "card_number              0\n",
            "expires                  0\n",
            "cvv                      0\n",
            "has_chip                 0\n",
            "num_cards_issued         0\n",
            "credit_limit             0\n",
            "acct_open_date           0\n",
            "year_pin_last_changed    0\n",
            "card_on_dark_web         0\n",
            "dtype: int64\n",
            "\n",
            "index     0\n",
            "target    0\n",
            "dtype: int64\n"
          ]
        }
      ]
    },
    {
      "cell_type": "markdown",
      "source": [
        "## Feature Selections"
      ],
      "metadata": {
        "id": "-6wTZlpzbpwW"
      }
    },
    {
      "cell_type": "code",
      "source": [
        "# Drop merchant_state, zip and errors column on transactions df\n",
        "df_transactions.drop(['merchant_state', 'merchant_city', 'zip', 'errors'], axis=1, inplace=True)\n",
        "\n",
        "# Drop birth_year, birth_month retirement_age, addresss, lat, long and total_debt columns on users df\n",
        "df_users.drop(['birth_year', 'birth_month', 'retirement_age', 'address', 'latitude', 'longitude', 'total_debt'], axis=1, inplace=True)\n",
        "\n",
        "# Drop card_number, expires cvv, id and acct_open_date columns on cards df\n",
        "df_cards.drop(['card_number', 'expires', 'cvv', 'acct_open_date', 'id'], axis=1, inplace=True)"
      ],
      "metadata": {
        "id": "oqr0BujgbzU0"
      },
      "execution_count": 5,
      "outputs": []
    },
    {
      "cell_type": "markdown",
      "source": [
        "## Data Cleaning"
      ],
      "metadata": {
        "id": "Dye2phUfb7fO"
      }
    },
    {
      "cell_type": "code",
      "source": [
        "# Convert amount column from string to numeric on transactions df\n",
        "df_transactions['amount'] = df_transactions['amount'].str.lstrip('$').astype(float)\n",
        "\n",
        "# Convert 'date' column to datetime\n",
        "df_transactions['date'] = pd.to_datetime(df_transactions['date'])\n",
        "\n",
        "# Convert datetime to timestamp (float)\n",
        "df_transactions['date'] = df_transactions['date'].astype('int64') / 1e9  # Convert nanoseconds to seconds\n",
        "\n",
        "# Convert per_capita_income and yearly_income column from string to numeric on users df\n",
        "df_users['per_capita_income'] = df_users['per_capita_income'].str.lstrip('$').astype(float)\n",
        "df_users['yearly_income'] = df_users['yearly_income'].str.lstrip('$').astype(float)\n",
        "\n",
        "# # Convert credit_limit column from string to numeric on cards df\n",
        "df_cards['credit_limit'] = df_cards['credit_limit'].str.lstrip('$').astype(float)\n",
        "\n",
        "# Rename columns\n",
        "df_users.rename(columns={'id': 'client_id'}, inplace=True) # Rename id to client_id\n",
        "df_fraud_labels.rename(columns={'index': 'transaction_id', 'target': 'is_fraud'}, inplace=True) # Rename index to transaction_id & target to is_fraud\n",
        "df_transactions.rename(columns={'id': 'transaction_id'}, inplace=True) # Rename id to transaction_id"
      ],
      "metadata": {
        "id": "kdG0fW49b-xM"
      },
      "execution_count": 6,
      "outputs": []
    },
    {
      "cell_type": "markdown",
      "source": [
        "## Merging Datasets & One-hot Encoding"
      ],
      "metadata": {
        "id": "1r4Ahuc1dRyb"
      }
    },
    {
      "cell_type": "code",
      "source": [
        "# Merge Users to transaction\n",
        "df_transactions = pd.merge(df_transactions, df_users, on=\"client_id\")\n",
        "\n",
        "# Merge Cards to transaction\n",
        "df_transactions = pd.merge(df_transactions, df_cards, on='client_id')\n",
        "\n",
        "# Merge Fraud Labels to transaction\n",
        "df_transactions = pd.merge(df_transactions, df_fraud_labels, on='transaction_id')\n",
        "\n",
        "# Run One-hot encoding to categorical columns\n",
        "df_transactions_encoded = pd.get_dummies(df_transactions, columns=[\"use_chip\", \"gender\", \"card_brand\", \"card_type\", \"has_chip\", \"card_on_dark_web\", \"is_fraud\"], drop_first=True)\n",
        "\n",
        "# Split data into train and split\n",
        "X = df_transactions_encoded.drop('is_fraud_Yes', axis=1)\n",
        "y = df_transactions_encoded['is_fraud_Yes']\n",
        "\n",
        "X_train, X_test, y_train, y_test = train_test_split(X, y, test_size=0.2, random_state=42)\n",
        "\n",
        "# Shape for training and test\n",
        "# Check sizes\n",
        "print(f'Training set: {X_train.shape}')\n",
        "print(f'Test set: {X_test.shape}')\n",
        "\n",
        "# Check for class inbalance\n",
        "np.bincount(y_train)"
      ],
      "metadata": {
        "colab": {
          "base_uri": "https://localhost:8080/"
        },
        "id": "-oxrzqafPkBi",
        "outputId": "c4a7fb27-86b1-42cb-87db-5415d3889441"
      },
      "execution_count": 7,
      "outputs": [
        {
          "output_type": "stream",
          "name": "stdout",
          "text": [
            "Training set: (5476287, 24)\n",
            "Test set: (1369072, 24)\n"
          ]
        },
        {
          "output_type": "execute_result",
          "data": {
            "text/plain": [
              "array([5467237,    9050])"
            ]
          },
          "metadata": {},
          "execution_count": 7
        }
      ]
    },
    {
      "cell_type": "markdown",
      "source": [
        "# Data Modeling"
      ],
      "metadata": {
        "id": "mjDLuJlMqQ0j"
      }
    },
    {
      "cell_type": "markdown",
      "source": [
        "## Logistic Regression"
      ],
      "metadata": {
        "id": "ogTvINGqNQJR"
      }
    },
    {
      "cell_type": "code",
      "source": [
        "# Train the LogisticRegression Model\n",
        "model = LogisticRegression(class_weight=\"balanced\") # Due to inbalanced class, use 'class_weight' to add importance to minority class\n",
        "model.fit(X_train, y_train)\n",
        "\n",
        "# Predict the model on test set(unseen data)\n",
        "y_pred_log = model.predict(X_test)\n",
        "\n",
        "# Visualize Predictions\n",
        "cm = confusion_matrix(y_test, y_pred_log)\n",
        "disp = ConfusionMatrixDisplay(confusion_matrix=cm)\n",
        "disp.plot(cmap='Blues')\n",
        "plt.show()"
      ],
      "metadata": {
        "colab": {
          "base_uri": "https://localhost:8080/",
          "height": 588
        },
        "id": "S8tQh9CZPCEU",
        "outputId": "df253184-8cd9-4743-aa09-25e02fcd12ce"
      },
      "execution_count": 32,
      "outputs": [
        {
          "output_type": "stream",
          "name": "stderr",
          "text": [
            "/usr/local/lib/python3.11/dist-packages/sklearn/linear_model/_logistic.py:465: ConvergenceWarning: lbfgs failed to converge (status=1):\n",
            "STOP: TOTAL NO. of ITERATIONS REACHED LIMIT.\n",
            "\n",
            "Increase the number of iterations (max_iter) or scale the data as shown in:\n",
            "    https://scikit-learn.org/stable/modules/preprocessing.html\n",
            "Please also refer to the documentation for alternative solver options:\n",
            "    https://scikit-learn.org/stable/modules/linear_model.html#logistic-regression\n",
            "  n_iter_i = _check_optimize_result(\n"
          ]
        },
        {
          "output_type": "display_data",
          "data": {
            "text/plain": [
              "<Figure size 640x480 with 2 Axes>"
            ],
            "image/png": "[encoded data removed]"
          },
          "metadata": {}
        }
      ]
    },
    {
      "cell_type": "markdown",
      "source": [
        "## Gradient Boosting"
      ],
      "metadata": {
        "id": "7AhlfmA1NSwv"
      }
    },
    {
      "cell_type": "code",
      "source": [
        "# Compute weights based on class distribution\n",
        "sample_weights = compute_sample_weight(class_weight=\"balanced\", y=y_train)\n",
        "\n",
        "# Train using the Gradient Boosting Classifier\n",
        "model = GradientBoostingClassifier(n_estimators=100, learning_rate=0.1, max_depth=3, random_state=42)\n",
        "model.fit(X_train, y_train, sample_weight=sample_weights)\n",
        "\n",
        "# Predict the model on test set(unseen data)\n",
        "y_pred_gb = model.predict(X_test)\n",
        "\n",
        "# Visualize Predictions\n",
        "cm = confusion_matrix(y_test, y_pred_gb)\n",
        "disp = ConfusionMatrixDisplay(confusion_matrix=cm)\n",
        "disp.plot(cmap='Blues')\n",
        "plt.show()"
      ],
      "metadata": {
        "colab": {
          "base_uri": "https://localhost:8080/",
          "height": 465
        },
        "id": "il4wy3tSugQF",
        "outputId": "c718469d-061e-4560-c78b-7111691efd1d"
      },
      "execution_count": 31,
      "outputs": [
        {
          "output_type": "display_data",
          "data": {
            "text/plain": [
              "<Figure size 640x480 with 2 Axes>"
            ],
            "image/png": "[encoded data removed]"
          },
          "metadata": {}
        }
      ]
    },
    {
      "cell_type": "markdown",
      "source": [
        "## Neural Network"
      ],
      "metadata": {
        "id": "ah6kM1bCYMYd"
      }
    },
    {
      "cell_type": "code",
      "source": [
        "# Apply SMOTE to balance the classes\n",
        "smote = SMOTE(random_state=42)\n",
        "X_resampled, y_resampled = smote.fit_resample(X_train, y_train)\n",
        "\n",
        "# Train the dataset using MLPClassifier\n",
        "model = MLPClassifier(hidden_layer_sizes=(50,), max_iter=2000)\n",
        "model.fit(X_resampled, y_resampled)\n",
        "\n",
        "# Predict the model on test set(unseen data)\n",
        "y_pred_nn = model.predict(X_test)\n",
        "\n",
        "# Visualize Predictions\n",
        "cm = confusion_matrix(y_test, y_pred_nn)\n",
        "disp = ConfusionMatrixDisplay(confusion_matrix=cm)\n",
        "disp.plot(cmap='Blues')\n",
        "plt.show()"
      ],
      "metadata": {
        "colab": {
          "base_uri": "https://localhost:8080/",
          "height": 465
        },
        "id": "r97q7dQsYRhy",
        "outputId": "79c2bac4-933f-4998-defa-08fbe0583b6b"
      },
      "execution_count": 8,
      "outputs": [
        {
          "output_type": "display_data",
          "data": {
            "text/plain": [
              "<Figure size 640x480 with 2 Axes>"
            ],
            "image/png": "[encoded data removed]"
          },
          "metadata": {}
        }
      ]
    }
  ]
}