{
  "nbformat": 4,
  "nbformat_minor": 0,
  "metadata": {
    "colab": {
      "provenance": [],
      "mount_file_id": "149_9a5QGdW0CpuNmCsIVr4Piym3KOjWP",
      "authorship_tag": "ABX9TyMRVICfOmLventgV3J5ncEA"
    },
    "kernelspec": {
      "name": "python3",
      "display_name": "Python 3"
    },
    "language_info": {
      "name": "python"
    }
  },
  "cells": [
    {
      "cell_type": "markdown",
      "source": [
        "# Import Libraries"
      ],
      "metadata": {
        "id": "OwBevfmur6Cv"
      }
    },
    {
      "cell_type": "code",
      "source": [
        "import pandas as pd\n",
        "import os\n",
        "import numpy as np\n",
        "from sklearn.model_selection import train_test_split\n",
        "from sklearn.linear_model import LogisticRegression, LinearRegression, Lasso\n",
        "from sklearn.metrics import confusion_matrix, ConfusionMatrixDisplay, mean_absolute_error, accuracy_score, precision_score, recall_score, roc_auc_score\n",
        "from sklearn.ensemble import GradientBoostingClassifier, GradientBoostingRegressor\n",
        "from sklearn.neural_network import MLPClassifier, MLPRegressor\n",
        "from sklearn.svm import SVR\n",
        "from sklearn.utils.class_weight import compute_sample_weight\n",
        "from imblearn.over_sampling import SMOTE\n",
        "import matplotlib.pyplot as plt"
      ],
      "metadata": {
        "id": "XzUdj0Yzr460"
      },
      "execution_count": 1,
      "outputs": []
    },
    {
      "cell_type": "markdown",
      "source": [
        "Import all necessary libraries for project objective (Fraud detection and Predicting Yearly Income)"
      ],
      "metadata": {
        "id": "IWu4dvKgf2SM"
      }
    },
    {
      "cell_type": "markdown",
      "source": [
        "# Import Datasets"
      ],
      "metadata": {
        "id": "InSqlJjQaQ_d"
      }
    },
    {
      "cell_type": "code",
      "execution_count": 2,
      "metadata": {
        "colab": {
          "base_uri": "https://localhost:8080/"
        },
        "collapsed": true,
        "id": "-1rcfx3zm9c4",
        "outputId": "2385b426-bd0e-4b66-be5a-84f12db041d0"
      },
      "outputs": [
        {
          "output_type": "stream",
          "name": "stdout",
          "text": [
            "\n",
            "Transactions - Info:\n",
            "<class 'pandas.core.frame.DataFrame'>\n",
            "RangeIndex: 2661183 entries, 0 to 2661182\n",
            "Data columns (total 12 columns):\n",
            " #   Column          Dtype  \n",
            "---  ------          -----  \n",
            " 0   id              int64  \n",
            " 1   date            object \n",
            " 2   client_id       int64  \n",
            " 3   card_id         int64  \n",
            " 4   amount          object \n",
            " 5   use_chip        object \n",
            " 6   merchant_id     int64  \n",
            " 7   merchant_city   object \n",
            " 8   merchant_state  object \n",
            " 9   zip             float64\n",
            " 10  mcc             int64  \n",
            " 11  errors          object \n",
            "dtypes: float64(1), int64(5), object(6)\n",
            "memory usage: 243.6+ MB\n",
            "None\n",
            "\n",
            "Users - Info:\n",
            "<class 'pandas.core.frame.DataFrame'>\n",
            "RangeIndex: 2000 entries, 0 to 1999\n",
            "Data columns (total 14 columns):\n",
            " #   Column             Non-Null Count  Dtype  \n",
            "---  ------             --------------  -----  \n",
            " 0   id                 2000 non-null   int64  \n",
            " 1   current_age        2000 non-null   int64  \n",
            " 2   retirement_age     2000 non-null   int64  \n",
            " 3   birth_year         2000 non-null   int64  \n",
            " 4   birth_month        2000 non-null   int64  \n",
            " 5   gender             2000 non-null   object \n",
            " 6   address            2000 non-null   object \n",
            " 7   latitude           2000 non-null   float64\n",
            " 8   longitude          2000 non-null   float64\n",
            " 9   per_capita_income  2000 non-null   object \n",
            " 10  yearly_income      2000 non-null   object \n",
            " 11  total_debt         2000 non-null   object \n",
            " 12  credit_score       2000 non-null   int64  \n",
            " 13  num_credit_cards   2000 non-null   int64  \n",
            "dtypes: float64(2), int64(7), object(5)\n",
            "memory usage: 218.9+ KB\n",
            "None\n",
            "\n",
            "Cards - Info:\n",
            "<class 'pandas.core.frame.DataFrame'>\n",
            "RangeIndex: 6146 entries, 0 to 6145\n",
            "Data columns (total 13 columns):\n",
            " #   Column                 Non-Null Count  Dtype \n",
            "---  ------                 --------------  ----- \n",
            " 0   id                     6146 non-null   int64 \n",
            " 1   client_id              6146 non-null   int64 \n",
            " 2   card_brand             6146 non-null   object\n",
            " 3   card_type              6146 non-null   object\n",
            " 4   card_number            6146 non-null   int64 \n",
            " 5   expires                6146 non-null   object\n",
            " 6   cvv                    6146 non-null   int64 \n",
            " 7   has_chip               6146 non-null   object\n",
            " 8   num_cards_issued       6146 non-null   int64 \n",
            " 9   credit_limit           6146 non-null   object\n",
            " 10  acct_open_date         6146 non-null   object\n",
            " 11  year_pin_last_changed  6146 non-null   int64 \n",
            " 12  card_on_dark_web       6146 non-null   object\n",
            "dtypes: int64(6), object(7)\n",
            "memory usage: 624.3+ KB\n",
            "None\n",
            "\n",
            "Fraud Labels - Info:\n",
            "<class 'pandas.core.frame.DataFrame'>\n",
            "RangeIndex: 8914963 entries, 0 to 8914962\n",
            "Data columns (total 2 columns):\n",
            " #   Column  Dtype \n",
            "---  ------  ----- \n",
            " 0   index   int64 \n",
            " 1   target  object\n",
            "dtypes: int64(1), object(1)\n",
            "memory usage: 136.0+ MB\n",
            "None\n"
          ]
        }
      ],
      "source": [
        "os.chdir('/content/drive/MyDrive/Colab/Datasets/fraud_detection_sets')\n",
        "\n",
        "# Load datasets\n",
        "df_transactions = pd.read_csv('transactions_data.csv')\n",
        "df_users = pd.read_csv('users_data.csv')\n",
        "df_cards = pd.read_csv('cards_data.csv')\n",
        "df_fraud_labels = pd.read_json('train_fraud_labels.json').reset_index() # Use read_json to read json file, index the records\n",
        "\n",
        "# Function to display dataset details\n",
        "def display_df_info(df, name):\n",
        "    print(f\"\\n{name} - Info:\")\n",
        "    print(df.info())\n",
        "\n",
        "# Display info for each dataframe\n",
        "display_df_info(df_transactions, \"Transactions\")\n",
        "display_df_info(df_users, \"Users\")\n",
        "display_df_info(df_cards, \"Cards\")\n",
        "display_df_info(df_fraud_labels, \"Fraud Labels\")"
      ]
    },
    {
      "cell_type": "markdown",
      "source": [
        "Information about each dataset, their datatypes, size, columns etc"
      ],
      "metadata": {
        "id": "ydvd9mmvgIMS"
      }
    },
    {
      "cell_type": "markdown",
      "source": [
        "# Data Preprocessing"
      ],
      "metadata": {
        "id": "HWkbTfoxsDrv"
      }
    },
    {
      "cell_type": "markdown",
      "source": [
        "## Check for NAN & Duplicates values"
      ],
      "metadata": {
        "id": "ps0JiO79bga0"
      }
    },
    {
      "cell_type": "code",
      "source": [
        "# Check for missing values in all datasets\n",
        "def check_missing_values(df):\n",
        "    return df.isnull().sum()\n",
        "\n",
        "# Print sum of missing values for each set\n",
        "print(f\"\\n{check_missing_values(df_transactions)}\")\n",
        "print(f\"\\n{check_missing_values(df_users)}\")\n",
        "print(f\"\\n{check_missing_values(df_cards)}\")\n",
        "print(f\"\\n{check_missing_values(df_fraud_labels)}\")\n",
        "\n",
        "# Drop duplicates for all datasets if any\n",
        "df_transactions.drop_duplicates(inplace=True)\n",
        "df_users.drop_duplicates(inplace=True)\n",
        "df_cards.drop_duplicates(inplace=True)\n",
        "df_fraud_labels.drop_duplicates(inplace=True)"
      ],
      "metadata": {
        "colab": {
          "base_uri": "https://localhost:8080/"
        },
        "collapsed": true,
        "id": "i4tyzjFqsJLr",
        "outputId": "7d31865d-af2b-42e0-9a01-7ab4722d5128"
      },
      "execution_count": 3,
      "outputs": [
        {
          "output_type": "stream",
          "name": "stdout",
          "text": [
            "\n",
            "id                      0\n",
            "date                    0\n",
            "client_id               0\n",
            "card_id                 0\n",
            "amount                  0\n",
            "use_chip                0\n",
            "merchant_id             0\n",
            "merchant_city           0\n",
            "merchant_state     312815\n",
            "zip                330584\n",
            "mcc                     0\n",
            "errors            2618999\n",
            "dtype: int64\n",
            "\n",
            "id                   0\n",
            "current_age          0\n",
            "retirement_age       0\n",
            "birth_year           0\n",
            "birth_month          0\n",
            "gender               0\n",
            "address              0\n",
            "latitude             0\n",
            "longitude            0\n",
            "per_capita_income    0\n",
            "yearly_income        0\n",
            "total_debt           0\n",
            "credit_score         0\n",
            "num_credit_cards     0\n",
            "dtype: int64\n",
            "\n",
            "id                       0\n",
            "client_id                0\n",
            "card_brand               0\n",
            "card_type                0\n",
            "card_number              0\n",
            "expires                  0\n",
            "cvv                      0\n",
            "has_chip                 0\n",
            "num_cards_issued         0\n",
            "credit_limit             0\n",
            "acct_open_date           0\n",
            "year_pin_last_changed    0\n",
            "card_on_dark_web         0\n",
            "dtype: int64\n",
            "\n",
            "index     0\n",
            "target    0\n",
            "dtype: int64\n"
          ]
        }
      ]
    },
    {
      "cell_type": "markdown",
      "source": [
        "Check for missing values and drop duplicates if any exist"
      ],
      "metadata": {
        "id": "ajLElx8VgU8q"
      }
    },
    {
      "cell_type": "markdown",
      "source": [
        "## Feature Selections"
      ],
      "metadata": {
        "id": "-6wTZlpzbpwW"
      }
    },
    {
      "cell_type": "code",
      "source": [
        "# Drop merchant_state, zip and errors column on transactions df\n",
        "df_transactions.drop(['merchant_state', 'merchant_city', 'zip', 'errors'], axis=1, inplace=True)\n",
        "\n",
        "# Drop birth_year, birth_month retirement_age, addresss, lat, long and total_debt columns on users df\n",
        "df_users.drop(['birth_year', 'birth_month', 'retirement_age', 'address', 'latitude', 'longitude', 'total_debt'], axis=1, inplace=True)\n",
        "\n",
        "# Drop card_number, expires cvv, id and acct_open_date columns on cards df\n",
        "df_cards.drop(['card_number', 'expires', 'cvv', 'acct_open_date', 'id'], axis=1, inplace=True)"
      ],
      "metadata": {
        "id": "oqr0BujgbzU0"
      },
      "execution_count": 4,
      "outputs": []
    },
    {
      "cell_type": "markdown",
      "source": [
        "Drop reducdant columns are not entirely useful or columns that could raise privacy concerns for predictions & classification algorithms"
      ],
      "metadata": {
        "id": "oqmNAPHrgnLF"
      }
    },
    {
      "cell_type": "markdown",
      "source": [
        "## Data Cleaning"
      ],
      "metadata": {
        "id": "Dye2phUfb7fO"
      }
    },
    {
      "cell_type": "code",
      "source": [
        "# Convert amount column from string to numeric on transactions df\n",
        "df_transactions['amount'] = df_transactions['amount'].str.lstrip('$').astype(float)\n",
        "\n",
        "# Convert 'date' column to datetime\n",
        "df_transactions['date'] = pd.to_datetime(df_transactions['date'])\n",
        "\n",
        "# Convert datetime to timestamp (float)\n",
        "df_transactions['date'] = df_transactions['date'].astype('int64') / 1e9  # Convert nanoseconds to seconds\n",
        "\n",
        "# Convert per_capita_income and yearly_income column from string to numeric on users df\n",
        "df_users['per_capita_income'] = df_users['per_capita_income'].str.lstrip('$').astype(float)\n",
        "df_users['yearly_income'] = df_users['yearly_income'].str.lstrip('$').astype(float)\n",
        "\n",
        "# # Convert credit_limit column from string to numeric on cards df\n",
        "df_cards['credit_limit'] = df_cards['credit_limit'].str.lstrip('$').astype(float)\n",
        "\n",
        "# Rename columns\n",
        "df_users.rename(columns={'id': 'client_id'}, inplace=True) # Rename id to client_id\n",
        "df_fraud_labels.rename(columns={'index': 'transaction_id', 'target': 'is_fraud'}, inplace=True) # Rename index to transaction_id & target to is_fraud\n",
        "df_transactions.rename(columns={'id': 'transaction_id'}, inplace=True) # Rename id to transaction_id"
      ],
      "metadata": {
        "id": "kdG0fW49b-xM"
      },
      "execution_count": 5,
      "outputs": []
    },
    {
      "cell_type": "markdown",
      "source": [
        "- Clean datasets, remove dollar signs and convert from string to float\n",
        "- Convert Date to actual Datetime datatype\n",
        "- Change columns names for clarity and reproducibility"
      ],
      "metadata": {
        "id": "qQFTyxmfhcyE"
      }
    },
    {
      "cell_type": "markdown",
      "source": [
        "## Merging Datasets & One-hot Encoding"
      ],
      "metadata": {
        "id": "1r4Ahuc1dRyb"
      }
    },
    {
      "cell_type": "code",
      "source": [
        "# Merge Users to transaction\n",
        "df_transactions = pd.merge(df_transactions, df_users, on=\"client_id\")\n",
        "\n",
        "# Merge Cards to transaction\n",
        "df_transactions = pd.merge(df_transactions, df_cards, on='client_id')\n",
        "\n",
        "# Merge Fraud Labels to transaction\n",
        "df_transactions = pd.merge(df_transactions, df_fraud_labels, on='transaction_id')\n",
        "\n",
        "# Run One-hot encoding to categorical columns\n",
        "df_transactions_encoded = pd.get_dummies(df_transactions, columns=[\"use_chip\", \"gender\", \"card_brand\", \"card_type\", \"has_chip\", \"card_on_dark_web\", \"is_fraud\"], drop_first=True)\n",
        "\n",
        "# Split data into train and split\n",
        "X = df_transactions_encoded.drop('is_fraud_Yes', axis=1)\n",
        "y = df_transactions_encoded['is_fraud_Yes']\n",
        "\n",
        "X_train, X_test, y_train, y_test = train_test_split(X, y, test_size=0.2, random_state=42)\n",
        "\n",
        "# Shape for training and test\n",
        "# Check sizes\n",
        "print(f'Training set: {X_train.shape}')\n",
        "print(f'Test set: {X_test.shape}')\n",
        "\n",
        "# Check for class inbalance\n",
        "np.bincount(y_train)"
      ],
      "metadata": {
        "colab": {
          "base_uri": "https://localhost:8080/"
        },
        "id": "-oxrzqafPkBi",
        "outputId": "d956a0b9-fae1-48c2-a9a2-1d24322a4284"
      },
      "execution_count": 6,
      "outputs": [
        {
          "output_type": "stream",
          "name": "stdout",
          "text": [
            "Training set: (5476287, 24)\n",
            "Test set: (1369072, 24)\n"
          ]
        },
        {
          "output_type": "execute_result",
          "data": {
            "text/plain": [
              "array([5467237,    9050])"
            ]
          },
          "metadata": {},
          "execution_count": 6
        }
      ]
    },
    {
      "cell_type": "markdown",
      "source": [
        "- Merge dataset based on uniquely identifiable keys on each dataset\n",
        "- Convert categorical data to discrete values\n",
        "- Split dataset for classification algorithms\n",
        "- Return Training and Test set shapes\n",
        "- Return class distribution across dataset"
      ],
      "metadata": {
        "id": "Ih-_THsth1LP"
      }
    },
    {
      "cell_type": "markdown",
      "source": [
        "# Modeling Deployment"
      ],
      "metadata": {
        "id": "mjDLuJlMqQ0j"
      }
    },
    {
      "cell_type": "markdown",
      "source": [
        "## Classification Algorithms"
      ],
      "metadata": {
        "id": "ogTvINGqNQJR"
      }
    },
    {
      "cell_type": "code",
      "source": [
        "# Train the LogisticRegression Model\n",
        "model = LogisticRegression(class_weight=\"balanced\") # Due to inbalanced class, use 'class_weight' to add importance to minority class\n",
        "model.fit(X_train, y_train)\n",
        "\n",
        "# Predict the model on test set(unseen data)\n",
        "y_pred_log = model.predict(X_test)\n",
        "\n",
        "# Compute weights based on class distribution\n",
        "sample_weights = compute_sample_weight(class_weight=\"balanced\", y=y_train)\n",
        "\n",
        "# Train using the Gradient Boosting Classifier\n",
        "model = GradientBoostingClassifier(n_estimators=100, learning_rate=0.1, max_depth=3, random_state=42)\n",
        "model.fit(X_train, y_train, sample_weight=sample_weights)\n",
        "\n",
        "# Predict the model on test set(unseen data)\n",
        "y_pred_gb = model.predict(X_test)\n",
        "\n",
        "# Apply SMOTE to balance the classes\n",
        "smote = SMOTE(random_state=42)\n",
        "X_resampled, y_resampled = smote.fit_resample(X_train, y_train)\n",
        "\n",
        "# Train the dataset using MLPClassifier\n",
        "model = MLPClassifier(hidden_layer_sizes=(50,), max_iter=2000)\n",
        "model.fit(X_resampled, y_resampled)\n",
        "\n",
        "# Predict the model on test set(unseen data)\n",
        "y_pred_nn = model.predict(X_test)"
      ],
      "metadata": {
        "colab": {
          "base_uri": "https://localhost:8080/"
        },
        "id": "S8tQh9CZPCEU",
        "outputId": "fb742f73-38d6-42ce-edbd-8f4403ee1bbb"
      },
      "execution_count": 7,
      "outputs": [
        {
          "output_type": "stream",
          "name": "stderr",
          "text": [
            "/usr/local/lib/python3.11/dist-packages/sklearn/linear_model/_logistic.py:465: ConvergenceWarning: lbfgs failed to converge (status=1):\n",
            "STOP: TOTAL NO. of ITERATIONS REACHED LIMIT.\n",
            "\n",
            "Increase the number of iterations (max_iter) or scale the data as shown in:\n",
            "    https://scikit-learn.org/stable/modules/preprocessing.html\n",
            "Please also refer to the documentation for alternative solver options:\n",
            "    https://scikit-learn.org/stable/modules/linear_model.html#logistic-regression\n",
            "  n_iter_i = _check_optimize_result(\n"
          ]
        }
      ]
    },
    {
      "cell_type": "markdown",
      "source": [
        "- Deploy logistics algorithm, use class_weight to add importance to minority class, this concept was repeated across the three algorithms used for this classification task; because based on the class distribution you can see a great inbalance in it's distribution\n",
        "- Train logistics model and predict using unseen data\n",
        "- Deploy GradientBoostingClassifier using hyperparameters, n_estimators which depicts the amount of trees for training, learning_rate that controls the step size, max_depth limits the trees complexity and random_state for reproducibility\n",
        "- Also tried to add importance to the class weight for gradient algorithm\n",
        "- Train the model and predict on unseen data\n",
        "- Deploy MLPClassifier which is the neural network model for classification using 50 neurons on one hidden_layer and max_iteration of 2000. Used SMOTE method to to balance the weights.\n",
        "- Train Model on unseen data"
      ],
      "metadata": {
        "id": "NvmxK_wPiWDK"
      }
    },
    {
      "cell_type": "markdown",
      "source": [
        "## Regression Algorithms"
      ],
      "metadata": {
        "id": "7AhlfmA1NSwv"
      }
    },
    {
      "cell_type": "code",
      "source": [
        "# Encoding categorical variables\n",
        "df_users_encoded = pd.get_dummies(df_users, columns=['gender'], drop_first=True)\n",
        "\n",
        "# Data spliting training 80% and test 20%\n",
        "X_users = df_users_encoded.drop('yearly_income', axis=1)\n",
        "y_users = df_users_encoded['yearly_income']\n",
        "\n",
        "X_train_rg, X_test_rg, y_train_rg, y_test_rg = train_test_split(X_users, y_users, test_size=0.2, random_state=42)\n",
        "\n",
        "# Run Dataset on LinearRegression\n",
        "model_lr = LinearRegression()\n",
        "model_lr.fit(X_train_rg, y_train_rg)\n",
        "\n",
        "y_pred_lr = model_lr.predict(X_test_rg)\n",
        "\n",
        "# Run Dataset on Lasso\n",
        "model_lasso = Lasso(alpha=2.0)\n",
        "model_lasso.fit(X_train_rg, y_train_rg)\n",
        "\n",
        "y_pred_lasso = model_lasso.predict(X_test_rg)\n",
        "\n",
        "# Run Dataset on MLPRegressor\n",
        "model_mlp = MLPRegressor(hidden_layer_sizes=(10, 5), max_iter=5000)\n",
        "model_mlp.fit(X_train_rg, y_train_rg)\n",
        "\n",
        "y_pred_mlp = model_mlp.predict(X_test_rg)\n",
        "\n",
        "# Run Dataset on Gradient Boosting Regression\n",
        "model_gbr = GradientBoostingRegressor(n_estimators=100, learning_rate=0.1, max_depth=3, random_state=42)\n",
        "model_gbr.fit(X_train_rg, y_train_rg)\n",
        "\n",
        "y_pred_gbr = model_gbr.predict(X_test_rg)\n",
        "\n",
        "# Run Dataset on SVR\n",
        "model_svr = SVR(kernel='rbf', C=1.0, epsilon=0.1)\n",
        "model_svr.fit(X_train_rg, y_train_rg)\n",
        "\n",
        "y_pred_svr = model_svr.predict(X_test_rg)"
      ],
      "metadata": {
        "id": "il4wy3tSugQF"
      },
      "execution_count": 9,
      "outputs": []
    },
    {
      "cell_type": "markdown",
      "source": [
        "Linear Regression:\n",
        "This model just finds a straight-line relationship between the input features and the target (yearly income). Trained on the dataset and tested on unseen data.\n",
        "\n",
        "Lasso Regression:\n",
        "Works like Linear Regression but adds a penalty to reduce the impact of some features. This helps avoid overfitting. Used alpha=2.0 to control how much it reduces feature impact.\n",
        "\n",
        "MLPRegressor (Neural Network):\n",
        "A simple neural network with two hidden layers (10 and 5 neurons). Trained for 5000 iterations so it can learn deeper patterns in the data.\n",
        "\n",
        "Gradient Boosting Regressor:\n",
        "This model builds multiple small trees and combines them to make better predictions. Used 100 trees, a learning_rate of 0.1, and a max_depth of 3 to control complexity.\n",
        "\n",
        "Support Vector Regressor (SVR):\n",
        "Uses a special method (kernel trick) to handle non-linear relationships. Set C=1.0 to control flexibility and epsilon=0.1 to define how much error it allows."
      ],
      "metadata": {
        "id": "QWYBXOvMmkYR"
      }
    },
    {
      "cell_type": "markdown",
      "source": [
        "# Model Results & Algorithom Comparisons"
      ],
      "metadata": {
        "id": "qR_rCdQAfjh1"
      }
    },
    {
      "cell_type": "markdown",
      "source": [
        "## Logistics Results"
      ],
      "metadata": {
        "id": "-zq5YVKPgxHs"
      }
    },
    {
      "cell_type": "code",
      "source": [
        "# Calculate accuracy, precision, recall for Logistics\n",
        "accuracy_log = accuracy_score(y_test, y_pred_log)\n",
        "precision_log = precision_score(y_test, y_pred_log)\n",
        "recall_log = recall_score(y_test, y_pred_log)\n",
        "\n",
        "# Confusion matrix to calculate Specificity and False Positive Rate for Logistics\n",
        "cm_log = confusion_matrix(y_test, y_pred_log)\n",
        "tn_log, fp_log, fn_log, tp_log = cm_log.ravel()\n",
        "\n",
        "specificity_log = tn_log / (tn_log + fp_log)\n",
        "fpr_log = fp_log / (fp_log + tn_log)\n",
        "\n",
        "# Print Results\n",
        "print(\"Logistic Regression Results\")\n",
        "print(f\"Accuracy: {accuracy_log:.2f}\")\n",
        "print(f\"Precision: {precision_log:.2f}\")\n",
        "print(f\"Recall: {recall_log:.2f}\")\n",
        "print(f\"Specificity: {specificity_log:.2f}\")\n",
        "print(f\"False Positive Rate: {fpr_log:.2f}\")\n",
        "print(\"--\" * 50)\n",
        "\n",
        "# Visualize Results\n",
        "print(\"Logistic Regression Result Visuals\")\n",
        "cm = confusion_matrix(y_test, y_pred_log)\n",
        "disp = ConfusionMatrixDisplay(confusion_matrix=cm)\n",
        "disp.plot(cmap='Blues')\n",
        "plt.show()"
      ],
      "metadata": {
        "colab": {
          "base_uri": "https://localhost:8080/",
          "height": 588
        },
        "id": "bkH_U0iLgjIl",
        "outputId": "9af350ca-f957-48de-99e7-1dc9bd04a16f"
      },
      "execution_count": 11,
      "outputs": [
        {
          "output_type": "stream",
          "name": "stdout",
          "text": [
            "Logistic Regression Results\n",
            "Accuracy: 0.55\n",
            "Precision: 0.00\n",
            "Recall: 0.59\n",
            "Specificity: 0.55\n",
            "False Positive Rate: 0.45\n",
            "----------------------------------------------------------------------------------------------------\n",
            "Logistic Regression Result Visuals\n"
          ]
        },
        {
          "output_type": "display_data",
          "data": {
            "text/plain": [
              "<Figure size 640x480 with 2 Axes>"
            ],
            "image/png": "[encoded data removed]"
          },
          "metadata": {}
        }
      ]
    },
    {
      "cell_type": "markdown",
      "source": [
        "Confusion Matrix Breakdown\n",
        "752,992 true negatives (Top-Left) → Model correctly predicted normal transactions.\n",
        "\n",
        "613,790 false positives (Top-Right) → Model wrongly classified normal transactions as fraud.\n",
        "\n",
        "930 false negatives (Bottom-Left) → Model missed 930 fraud cases.\n",
        "\n",
        "1,360 true positives (Bottom-Right) → Model correctly caught 1,360 fraud cases.\n",
        "\n",
        "Overall Thoughts\n",
        "\n",
        "The model is biased toward predicting \"not fraud\" (majority class).\n",
        "\n",
        "Precision is poor, meaning flagged fraud cases are mostly wrong.\n",
        "\n",
        "Recall is okay but not reliable enough.\n",
        "\n",
        "Too many false positives, making it unreliable for fraud detection."
      ],
      "metadata": {
        "id": "inNkW7qqnmb1"
      }
    },
    {
      "cell_type": "markdown",
      "source": [
        "## Gradient Results"
      ],
      "metadata": {
        "id": "B2Xt4RGNhOKc"
      }
    },
    {
      "cell_type": "code",
      "source": [
        "# Calculate accuracy, precision, recall for Gradient\n",
        "accuracy_gb = accuracy_score(y_test, y_pred_gb)\n",
        "precision_gb = precision_score(y_test, y_pred_gb)\n",
        "recall_gb = recall_score(y_test, y_pred_gb)\n",
        "\n",
        "# Confusion matrix to calculate Specificity and False Positive Rate for Gradient\n",
        "cm_gb = confusion_matrix(y_test, y_pred_gb)\n",
        "tn_gb, fp_gb, fn_gb, tp_gb = cm_gb.ravel()\n",
        "\n",
        "specificity_gb = tn_gb / (tn_gb + fp_gb)\n",
        "fpr_gb = fp_gb / (fp_gb + tn_gb)\n",
        "\n",
        "# Print Results\n",
        "print(\"Gradient Boosting Results\")\n",
        "print(f\"Accuracy: {accuracy_gb:.2f}\")\n",
        "print(f\"Precision: {precision_gb:.2f}\")\n",
        "print(f\"Recall: {recall_gb:.2f}\")\n",
        "print(f\"Specificity: {specificity_gb:.2f}\")\n",
        "print(f\"False Positive Rate: {fpr_gb:.2f}\")\n",
        "print(\"--\" * 50)\n",
        "\n",
        "# Visualize Results\n",
        "print(\"Gradient Boosting Result Visuals\")\n",
        "cm = confusion_matrix(y_test, y_pred_gb)\n",
        "disp = ConfusionMatrixDisplay(confusion_matrix=cm)\n",
        "disp.plot(cmap='Blues')\n",
        "plt.show()"
      ],
      "metadata": {
        "colab": {
          "base_uri": "https://localhost:8080/",
          "height": 604
        },
        "id": "CGn9guGKhRZ8",
        "outputId": "d395c002-e2c0-438d-cc43-8c1ffe330668"
      },
      "execution_count": 12,
      "outputs": [
        {
          "output_type": "stream",
          "name": "stdout",
          "text": [
            "Gradient Boosting Results\n",
            "Accuracy: 0.93\n",
            "Precision: 0.02\n",
            "Recall: 0.87\n",
            "Specificity: 0.93\n",
            "False Positive Rate: 0.07\n",
            "----------------------------------------------------------------------------------------------------\n",
            "Gradient Boosting Result Visuals\n"
          ]
        },
        {
          "output_type": "display_data",
          "data": {
            "text/plain": [
              "<Figure size 640x480 with 2 Axes>"
            ],
            "image/png": "[encoded data removed]"
          },
          "metadata": {}
        }
      ]
    },
    {
      "cell_type": "markdown",
      "source": [
        "Confusion Matrix Breakdown\n",
        "1.3 million true negatives (Top-Left) → Model correctly predicted normal transactions.\n",
        "\n",
        "90,518 false positives (Top-Right) → Model wrongly classified normal transactions as fraud.\n",
        "\n",
        "292 false negatives (Bottom-Left) → Model missed 292 fraud cases (very low).\n",
        "\n",
        "1,998 true positives (Bottom-Right) → Model correctly caught 1,998 fraud cases.\n",
        "\n",
        "Overall Thoughts\n",
        "\n",
        "The model is much better at detecting fraud than Logistic Regression.\n",
        "\n",
        "It still struggles with precision, meaning flagged fraud cases are mostly false alarms.\n",
        "\n",
        "The recall (87%) is strong, so it’s catching a lot of fraud cases.\n",
        "\n",
        "False positives are lower compared to Logistic Regression, making it more reliable."
      ],
      "metadata": {
        "id": "kvkWhPRDoKkK"
      }
    },
    {
      "cell_type": "markdown",
      "source": [
        "## Neural Results"
      ],
      "metadata": {
        "id": "ZWQmPyQ5hwDv"
      }
    },
    {
      "cell_type": "code",
      "source": [
        "# Calculate accuracy, precision, recall for Neural\n",
        "accuracy_nn = accuracy_score(y_test, y_pred_nn)\n",
        "precision_nn = precision_score(y_test, y_pred_nn)\n",
        "recall_nn = recall_score(y_test, y_pred_nn)\n",
        "\n",
        "# Confusion matrix to calculate Specificity and False Positive Rate for Neural\n",
        "cm_nn = confusion_matrix(y_test, y_pred_nn)\n",
        "tn_nn, fp_nn, fn_nn, tp_nn = cm_nn.ravel()\n",
        "\n",
        "specificity_nn = tn_nn / (tn_nn + fp_nn)\n",
        "fpr_nn = fp_nn / (fp_nn + tn_nn)\n",
        "\n",
        "# Print Results\n",
        "print(\"Neural Network Results\")\n",
        "print(f\"Accuracy: {accuracy_nn:.2f}\")\n",
        "print(f\"Precision: {precision_nn:.2f}\")\n",
        "print(f\"Recall: {recall_gb:.2f}\")\n",
        "print(f\"Specificity: {specificity_nn:.2f}\")\n",
        "print(f\"False Positive Rate: {fpr_nn:.2f}\")\n",
        "print(\"--\" * 50)\n",
        "\n",
        "# Visualize Results\n",
        "print(\"Neural Network Result Visuals\")\n",
        "cm = confusion_matrix(y_test, y_pred_nn)\n",
        "disp = ConfusionMatrixDisplay(confusion_matrix=cm)\n",
        "disp.plot(cmap='Blues')\n",
        "plt.show()"
      ],
      "metadata": {
        "colab": {
          "base_uri": "https://localhost:8080/",
          "height": 659
        },
        "id": "ZWkyIkqyhzoT",
        "outputId": "cae29307-f8c2-4c82-d335-a6cf866283bd"
      },
      "execution_count": 13,
      "outputs": [
        {
          "output_type": "stream",
          "name": "stderr",
          "text": [
            "/usr/local/lib/python3.11/dist-packages/sklearn/metrics/_classification.py:1565: UndefinedMetricWarning: Precision is ill-defined and being set to 0.0 due to no predicted samples. Use `zero_division` parameter to control this behavior.\n",
            "  _warn_prf(average, modifier, f\"{metric.capitalize()} is\", len(result))\n"
          ]
        },
        {
          "output_type": "stream",
          "name": "stdout",
          "text": [
            "Neural Network Results\n",
            "Accuracy: 1.00\n",
            "Precision: 0.00\n",
            "Recall: 0.87\n",
            "Specificity: 1.00\n",
            "False Positive Rate: 0.00\n",
            "----------------------------------------------------------------------------------------------------\n",
            "Neural Network Result Visuals\n"
          ]
        },
        {
          "output_type": "display_data",
          "data": {
            "text/plain": [
              "<Figure size 640x480 with 2 Axes>"
            ],
            "image/png": "[encoded data removed]"
          },
          "metadata": {}
        }
      ]
    },
    {
      "cell_type": "markdown",
      "source": [
        "Confusion Matrix Breakdown\n",
        "1.4 million true negatives (Top-Left) → Model correctly predicted normal transactions.\n",
        "\n",
        "0 false positives (Top-Right) → Model never wrongly classified normal transactions as fraud.\n",
        "\n",
        "2,290 false negatives (Bottom-Left) → Model missed all 2,290 fraud cases.\n",
        "\n",
        "0 true positives (Bottom-Right) → Model never predicted fraud at all.\n",
        "\n",
        "Overall Thoughts\n",
        "\n",
        "The model is too biased toward the majority class (normal transactions).\n",
        "\n",
        "It never predicts fraud, so it's useless for fraud detection despite 100% accuracy.\n",
        "\n",
        "The recall (87%) is misleading because it only counts actual fraud cases, not predictions.\n",
        "\n",
        "This model is completely failing at detecting fraud!"
      ],
      "metadata": {
        "id": "GkWGg6uFpEj0"
      }
    },
    {
      "cell_type": "markdown",
      "source": [
        "## Regression Results"
      ],
      "metadata": {
        "id": "Ng-6gLU0-Glb"
      }
    },
    {
      "cell_type": "code",
      "source": [
        "# Lasso, Linear, GBR, MLP and SVR results on MAE\n",
        "mae_neural = mean_absolute_error(y_test_rg, y_pred_mlp)\n",
        "mae_lasso = mean_absolute_error(y_test_rg, y_pred_lasso)\n",
        "mae_linear = mean_absolute_error(y_test_rg, y_pred_lr)\n",
        "mae_gbr = mean_absolute_error(y_test_rg, y_pred_gbr)\n",
        "mae_svr = mean_absolute_error(y_test_rg, y_pred_svr)\n",
        "\n",
        "# Print Results\n",
        "print(\"Regression Results\")\n",
        "print(f\"MAE Neural: {mae_neural:.2f}\")\n",
        "print(f\"MAE Lasso: {mae_lasso:.2f}\")\n",
        "print(f\"MAE Linear: {mae_linear:.2f}\")\n",
        "print(f\"MAE GBR: {mae_gbr:.2f}\")\n",
        "print(f\"MAE SVR: {mae_svr:.2f}\")\n",
        "print(\"--\" * 50)"
      ],
      "metadata": {
        "colab": {
          "base_uri": "https://localhost:8080/"
        },
        "id": "-mTZo7OJ-K7U",
        "outputId": "f2a50d00-04f3-47dd-b9b7-7a6a06ed07c3"
      },
      "execution_count": 15,
      "outputs": [
        {
          "output_type": "stream",
          "name": "stdout",
          "text": [
            "Regression Results\n",
            "MAE Neural: 2835.41\n",
            "MAE Lasso: 2751.06\n",
            "MAE Linear: 2751.10\n",
            "MAE GBR: 1860.04\n",
            "MAE SVR: 14211.06\n",
            "----------------------------------------------------------------------------------------------------\n"
          ]
        }
      ]
    },
    {
      "cell_type": "markdown",
      "source": [
        "## Algorithm Comparison"
      ],
      "metadata": {
        "id": "DlY3Ge0PlhAY"
      }
    },
    {
      "cell_type": "markdown",
      "source": [
        "## Classification Models"
      ],
      "metadata": {
        "id": "9NkPOTHaDsFk"
      }
    },
    {
      "cell_type": "code",
      "source": [
        "# Plot all confusion matrices together\n",
        "fig, axes = plt.subplots(1, 3, figsize=(15, 5))\n",
        "\n",
        "# Logistic Regression\n",
        "axes[0].set_title(\"Logistic Regression\")\n",
        "disp_log = ConfusionMatrixDisplay(confusion_matrix=cm_log)\n",
        "disp_log.plot(cmap='Blues', ax=axes[0], colorbar=False)\n",
        "\n",
        "# Gradient Boosting\n",
        "axes[1].set_title(\"Gradient Boosting\")\n",
        "disp_gb = ConfusionMatrixDisplay(confusion_matrix=cm_gb)\n",
        "disp_gb.plot(cmap='Blues', ax=axes[1], colorbar=False)\n",
        "\n",
        "# Neural Network\n",
        "axes[2].set_title(\"Neural Network\")\n",
        "disp_nn = ConfusionMatrixDisplay(confusion_matrix=cm_nn)\n",
        "disp_nn.plot(cmap='Blues', ax=axes[2], colorbar=True)\n",
        "\n",
        "plt.show()"
      ],
      "metadata": {
        "colab": {
          "base_uri": "https://localhost:8080/",
          "height": 458
        },
        "id": "LzOWifez-Jae",
        "outputId": "9c9df9d2-2abb-4552-d855-687697a5c040"
      },
      "execution_count": 16,
      "outputs": [
        {
          "output_type": "display_data",
          "data": {
            "text/plain": [
              "<Figure size 1500x500 with 4 Axes>"
            ],
            "image/png": "[encoded data removed]"
          },
          "metadata": {}
        }
      ]
    },
    {
      "cell_type": "markdown",
      "source": [
        "Best Performing Model: Gradient Boosting Classifier\n",
        "\n",
        "Why Gradient Boosting is the Best?\n",
        "Best Balance Between False Positives & False Negatives\n",
        "\n",
        "It caught 1,998 fraud cases, much better than Neural Network (0) and Logistic Regression (1,360).\n",
        "\n",
        "It only missed 292 fraud cases, the lowest among the three models.\n",
        "\n",
        "High Recall (87%)\n",
        "\n",
        "The model successfully identified 87% of fraud cases, the same recall as the Neural Network but with actual fraud predictions.\n",
        "\n",
        "Logistic Regression had a much lower recall (59%), meaning it missed a lot more fraud cases.\n",
        "\n",
        "Better False Positive Rate (7%)\n",
        "\n",
        "Neural Network had 0% false positives but at the cost of never detecting fraud at all.\n",
        "\n",
        "Logistic Regression had a terrible 45% false positive rate, making it unreliable.\n",
        "\n",
        "Gradient Boosting balanced false positives (7%) with good fraud detection.\n",
        "\n",
        "Higher Accuracy (93%)\n",
        "\n",
        "Logistic Regression had only 55% accuracy, meaning it was making too many mistakes.\n",
        "\n",
        "Neural Network had 100% accuracy, but it never predicted fraud, making it misleading.\n",
        "\n",
        "Gradient Boosting had 93% accuracy, which is a realistic and strong result."
      ],
      "metadata": {
        "id": "vi95844u1ewj"
      }
    },
    {
      "cell_type": "markdown",
      "source": [
        "## Regression Models"
      ],
      "metadata": {
        "id": "H-4mdEN6FdzH"
      }
    },
    {
      "cell_type": "code",
      "source": [
        "# MAE values\n",
        "mae_values = {\n",
        "    \"Neural\": mae_neural,\n",
        "    \"Lasso\": mae_lasso,\n",
        "    \"Linear\": mae_linear,\n",
        "    \"GBR\": mae_gbr,\n",
        "    \"SVR\": mae_svr\n",
        "}\n",
        "\n",
        "# Extract labels and values\n",
        "models = list(mae_values.keys())\n",
        "mae_scores = list(mae_values.values())\n",
        "\n",
        "# Plot\n",
        "plt.figure(figsize=(8, 5))\n",
        "plt.bar(models, mae_scores, color=['blue', 'red', 'green', 'purple', 'orange'])\n",
        "plt.xlabel(\"Regression Models\")\n",
        "plt.ylabel(\"Mean Absolute Error (MAE)\")\n",
        "plt.title(\"Comparison of MAE Across Regression Models\")\n",
        "plt.ylim(0, max(mae_scores) + 0.5)\n",
        "\n",
        "# Show values on bars\n",
        "for i, v in enumerate(mae_scores):\n",
        "    plt.text(i, v + 0.05, str(v), ha='center', fontsize=10)\n",
        "\n",
        "plt.show()"
      ],
      "metadata": {
        "colab": {
          "base_uri": "https://localhost:8080/",
          "height": 487
        },
        "id": "otmd7fZTFzx1",
        "outputId": "03ac2fc5-1aa8-4cfc-f2ee-1b98491c4d13"
      },
      "execution_count": 17,
      "outputs": [
        {
          "output_type": "display_data",
          "data": {
            "text/plain": [
              "<Figure size 800x500 with 1 Axes>"
            ],
            "image/png": "[encoded data removed]"
          },
          "metadata": {}
        }
      ]
    },
    {
      "cell_type": "markdown",
      "source": [
        "Regression Model Performance (MAE - Mean Absolute Error)\n",
        "Neural Network (MLP) → MAE: 2835.41\n",
        "\n",
        "The model's average error is 2,835, meaning predictions are a bit off.\n",
        "\n",
        "Decent, but not the best.\n",
        "\n",
        "Lasso Regression → MAE: 2751.06\n",
        "\n",
        "Performs slightly better than Neural Network.\n",
        "\n",
        "Lasso helps by reducing the impact of less important features.\n",
        "\n",
        "Linear Regression → MAE: 2751.10\n",
        "\n",
        "Almost the same as Lasso, meaning the penalty in Lasso didn’t make much difference.\n",
        "\n",
        "Gradient Boosting Regressor (GBR) → MAE: 1860.04\n",
        "\n",
        "Best performing model so far.\n",
        "\n",
        "Uses multiple trees to make more accurate predictions.\n",
        "\n",
        "Support Vector Regressor (SVR) → MAE: 14,211.06\n",
        "\n",
        "Worst performance.\n",
        "\n",
        "Struggles a lot with predicting income correctly.\n",
        "\n",
        "Overall Thoughts\n",
        "\n",
        "GBR is the best model here with the lowest error (1860.04).\n",
        "\n",
        "Linear & Lasso Regression are decent but not great.\n",
        "\n",
        "Neural Network is okay but could be better.\n",
        "\n",
        "SVR completely failed, producing the highest error."
      ],
      "metadata": {
        "id": "1BUG3HjvpqNn"
      }
    }
  ]
}